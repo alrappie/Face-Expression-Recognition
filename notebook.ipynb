{
 "cells": [
  {
   "cell_type": "code",
   "execution_count": 6,
   "metadata": {},
   "outputs": [],
   "source": [
    "import pandas as pd\n",
    "import numpy as np\n",
    "import tensorflow as tf\n",
    "from tensorflow.keras.preprocessing.image import ImageDataGenerator\n",
    "from tensorflow.keras.applications import VGG19\n",
    "from tensorflow import image,io\n",
    "import cv2\n",
    "import matplotlib.pyplot as plt"
   ]
  },
  {
   "cell_type": "markdown",
   "metadata": {},
   "source": [
    "### Check For the Image"
   ]
  },
  {
   "cell_type": "code",
   "execution_count": 7,
   "metadata": {},
   "outputs": [
    {
     "name": "stdout",
     "output_type": "stream",
     "text": [
      "Ukuran Gambar :  (48, 48, 3)\n"
     ]
    },
    {
     "data": {
      "image/png": "[encoded data removed]",
      "text/plain": [
       "<Figure size 640x480 with 1 Axes>"
      ]
     },
     "metadata": {},
     "output_type": "display_data"
    }
   ],
   "source": [
    "EXAMPLE_IMAGE_PATH = './images/train/angry/0.jpg'\n",
    "tf_img = io.read_file(EXAMPLE_IMAGE_PATH)\n",
    "tf_img = image.decode_png(tf_img, channels=3)\n",
    "print(\"Ukuran Gambar : \",tf_img.shape)\n",
    "plt.imshow(tf_img)\n",
    "plt.show()"
   ]
  },
  {
   "cell_type": "markdown",
   "metadata": {},
   "source": [
    "### Preprocessing Image"
   ]
  },
  {
   "cell_type": "code",
   "execution_count": 8,
   "metadata": {},
   "outputs": [
    {
     "name": "stdout",
     "output_type": "stream",
     "text": [
      "Found 23060 images belonging to 7 classes.\n",
      "Found 1411 images belonging to 7 classes.\n"
     ]
    }
   ],
   "source": [
    "TRAIN_FILE_PATH = './images/train/'\n",
    "VALIDATION_FILE_PATH = './images/validation/'\n",
    "TARGET_SIZE = 48\n",
    "\n",
    "train_gen = ImageDataGenerator(                                                 \n",
    "    width_shift_range = 0.1,\n",
    "    height_shift_range = 0.1,\n",
    "    horizontal_flip = True,\n",
    "    rescale = 1./255,\n",
    "    validation_split = 0.2\n",
    ")\n",
    "\n",
    "valid_gen = ImageDataGenerator(\n",
    "    rescale = 1./255,\n",
    "    validation_split = 0.2\n",
    ")\n",
    "\n",
    "train_dataset = train_gen.flow_from_directory(\n",
    "    TRAIN_FILE_PATH,\n",
    "    target_size=(TARGET_SIZE,TARGET_SIZE),\n",
    "    batch_size=64,\n",
    "    color_mode = 'grayscale',\n",
    "    class_mode = 'categorical',\n",
    "    subset = 'training'\n",
    ")\n",
    "\n",
    "valid_dataset = valid_gen.flow_from_directory(\n",
    "    VALIDATION_FILE_PATH,\n",
    "    target_size=(TARGET_SIZE,TARGET_SIZE),\n",
    "    batch_size=64,\n",
    "    color_mode = 'grayscale',\n",
    "    class_mode = 'categorical',\n",
    "    subset = 'validation'\n",
    ")"
   ]
  },
  {
   "cell_type": "code",
   "execution_count": 4,
   "metadata": {},
   "outputs": [],
   "source": [
    "# VGG19_model = VGG19(include_top=False,input_shape=(TARGET_SIZE,TARGET_SIZE,3),weights='imagenet')\n",
    "# VGG19_model.trainable = False\n",
    "# name = 'VGG19'\n",
    "# VGG19_model.summary()"
   ]
  },
  {
   "cell_type": "code",
   "execution_count": 5,
   "metadata": {},
   "outputs": [],
   "source": [
    "# model = tf.keras.models.Sequential([\n",
    "#     VGG19_model,\n",
    "#     tf.keras.layers.Flatten(),\n",
    "#     tf.keras.layers.Dense(128,activation='relu'),\n",
    "#     tf.keras.layers.Dropout(.2),\n",
    "#     tf.keras.layers.Dense(7,activation='softmax'),\n",
    "# ],name=name)"
   ]
  },
  {
   "cell_type": "code",
   "execution_count": 6,
   "metadata": {},
   "outputs": [],
   "source": [
    "# model.summary()"
   ]
  },
  {
   "cell_type": "code",
   "execution_count": 7,
   "metadata": {},
   "outputs": [],
   "source": [
    "# model.compile(\n",
    "#     loss = 'categorical_crossentropy',\n",
    "#     optimizer = 'adam',\n",
    "#     metrics = ['accuracy']\n",
    "# )\n",
    "\n",
    "# model.fit(\n",
    "#     train_dataset,\n",
    "#     epochs = 10,\n",
    "#     validation_data = valid_dataset,\n",
    "# )"
   ]
  },
  {
   "cell_type": "code",
   "execution_count": 8,
   "metadata": {},
   "outputs": [],
   "source": [
    "from keras.models import Sequential\n",
    "from keras.layers import Conv2D, MaxPool2D, Flatten,Dense,Dropout,BatchNormalization\n",
    "import cv2\n",
    "from keras import regularizers\n",
    "from tensorflow.keras.optimizers import Adam,RMSprop,SGD,Adamax"
   ]
  },
  {
   "cell_type": "code",
   "execution_count": 9,
   "metadata": {},
   "outputs": [
    {
     "name": "stderr",
     "output_type": "stream",
     "text": [
      "c:\\Users\\alrav\\anaconda3\\lib\\site-packages\\keras\\optimizer_v2\\adam.py:105: UserWarning: The `lr` argument is deprecated, use `learning_rate` instead.\n",
      "  super(Adam, self).__init__(name, **kwargs)\n"
     ]
    }
   ],
   "source": [
    "model= tf.keras.models.Sequential()\n",
    "model.add(Conv2D(32, kernel_size=(3, 3), padding='same', activation='relu', input_shape=(48, 48,1)))\n",
    "model.add(Conv2D(64,(3,3), padding='same', activation='relu' ))\n",
    "model.add(BatchNormalization())\n",
    "model.add(MaxPool2D(pool_size=(2, 2)))\n",
    "model.add(Dropout(0.25))\n",
    "\n",
    "model.add(Conv2D(128,(5,5), padding='same', activation='relu'))\n",
    "model.add(BatchNormalization())\n",
    "model.add(MaxPool2D(pool_size=(2, 2)))\n",
    "model.add(Dropout(0.25))\n",
    "    \n",
    "model.add(Conv2D(512,(3,3), padding='same', activation='relu', kernel_regularizer=regularizers.l2(0.01)))\n",
    "model.add(BatchNormalization())\n",
    "model.add(MaxPool2D(pool_size=(2, 2)))\n",
    "model.add(Dropout(0.25))\n",
    "\n",
    "model.add(Conv2D(512,(3,3), padding='same', activation='relu', kernel_regularizer=regularizers.l2(0.01)))\n",
    "model.add(BatchNormalization())\n",
    "model.add(MaxPool2D(pool_size=(2, 2)))\n",
    "model.add(Dropout(0.25))\n",
    "\n",
    "model.add(Flatten()) \n",
    "model.add(Dense(256,activation = 'relu'))\n",
    "model.add(BatchNormalization())\n",
    "model.add(Dropout(0.25))\n",
    "    \n",
    "model.add(Dense(512,activation = 'relu'))\n",
    "model.add(BatchNormalization())\n",
    "model.add(Dropout(0.25))\n",
    "\n",
    "model.add(Dense(7, activation='softmax'))\n",
    "\n",
    "model.compile(\n",
    "    optimizer = Adam(lr=0.0001), \n",
    "    loss='categorical_crossentropy', \n",
    "    metrics=['accuracy']\n",
    "  )"
   ]
  },
  {
   "cell_type": "code",
   "execution_count": 10,
   "metadata": {},
   "outputs": [
    {
     "name": "stdout",
     "output_type": "stream",
     "text": [
      "Epoch 1/60\n",
      "361/361 [==============================] - 436s 1s/step - loss: 9.3078 - accuracy: 0.1928 - val_loss: 9.0681 - val_accuracy: 0.1722\n",
      "Epoch 2/60\n",
      "361/361 [==============================] - 446s 1s/step - loss: 8.2618 - accuracy: 0.2288 - val_loss: 7.5664 - val_accuracy: 0.2580\n",
      "Epoch 3/60\n",
      "361/361 [==============================] - 442s 1s/step - loss: 7.2510 - accuracy: 0.2534 - val_loss: 6.5440 - val_accuracy: 0.2984\n",
      "Epoch 4/60\n",
      "361/361 [==============================] - 484s 1s/step - loss: 6.2697 - accuracy: 0.2745 - val_loss: 5.6315 - val_accuracy: 0.3515\n",
      "Epoch 5/60\n",
      "361/361 [==============================] - 518s 1s/step - loss: 5.3709 - accuracy: 0.3100 - val_loss: 4.7873 - val_accuracy: 0.3728\n",
      "Epoch 6/60\n",
      "361/361 [==============================] - 462s 1s/step - loss: 4.5993 - accuracy: 0.3378 - val_loss: 4.0669 - val_accuracy: 0.4033\n",
      "Epoch 7/60\n",
      "361/361 [==============================] - 486s 1s/step - loss: 3.9529 - accuracy: 0.3655 - val_loss: 3.5139 - val_accuracy: 0.4266\n",
      "Epoch 8/60\n",
      "361/361 [==============================] - 509s 1s/step - loss: 3.4441 - accuracy: 0.3899 - val_loss: 3.0698 - val_accuracy: 0.4458\n",
      "Epoch 9/60\n",
      "361/361 [==============================] - 470s 1s/step - loss: 3.0275 - accuracy: 0.4207 - val_loss: 2.7709 - val_accuracy: 0.4536\n",
      "Epoch 10/60\n",
      "361/361 [==============================] - 534s 1s/step - loss: 2.7041 - accuracy: 0.4396 - val_loss: 2.4388 - val_accuracy: 0.4897\n",
      "Epoch 11/60\n",
      "361/361 [==============================] - 577s 2s/step - loss: 2.4594 - accuracy: 0.4565 - val_loss: 2.2025 - val_accuracy: 0.5124\n",
      "Epoch 12/60\n",
      "361/361 [==============================] - 529s 1s/step - loss: 2.2428 - accuracy: 0.4785 - val_loss: 2.0922 - val_accuracy: 0.5216\n",
      "Epoch 13/60\n",
      "361/361 [==============================] - 449s 1s/step - loss: 2.0826 - accuracy: 0.4912 - val_loss: 1.9171 - val_accuracy: 0.5372\n",
      "Epoch 14/60\n",
      "361/361 [==============================] - 475s 1s/step - loss: 1.9562 - accuracy: 0.5092 - val_loss: 1.8239 - val_accuracy: 0.5365\n",
      "Epoch 15/60\n",
      "361/361 [==============================] - 490s 1s/step - loss: 1.8636 - accuracy: 0.5217 - val_loss: 1.7745 - val_accuracy: 0.5372\n",
      "Epoch 16/60\n",
      "361/361 [==============================] - 466s 1s/step - loss: 1.7823 - accuracy: 0.5277 - val_loss: 1.6824 - val_accuracy: 0.5507\n",
      "Epoch 17/60\n",
      "361/361 [==============================] - 491s 1s/step - loss: 1.7159 - accuracy: 0.5402 - val_loss: 1.6341 - val_accuracy: 0.5656\n",
      "Epoch 18/60\n",
      "361/361 [==============================] - 505s 1s/step - loss: 1.6718 - accuracy: 0.5447 - val_loss: 1.6150 - val_accuracy: 0.5648\n",
      "Epoch 19/60\n",
      "361/361 [==============================] - 495s 1s/step - loss: 1.6218 - accuracy: 0.5576 - val_loss: 1.5809 - val_accuracy: 0.5734\n",
      "Epoch 20/60\n",
      "361/361 [==============================] - 609s 2s/step - loss: 1.5854 - accuracy: 0.5626 - val_loss: 1.5684 - val_accuracy: 0.5684\n",
      "Epoch 21/60\n",
      "361/361 [==============================] - 819s 2s/step - loss: 1.5484 - accuracy: 0.5732 - val_loss: 1.5903 - val_accuracy: 0.5634\n",
      "Epoch 22/60\n",
      "361/361 [==============================] - 683s 2s/step - loss: 1.5266 - accuracy: 0.5831 - val_loss: 1.5021 - val_accuracy: 0.5776\n",
      "Epoch 23/60\n",
      "361/361 [==============================] - 702s 2s/step - loss: 1.5141 - accuracy: 0.5811 - val_loss: 1.4517 - val_accuracy: 0.6095\n",
      "Epoch 24/60\n",
      "361/361 [==============================] - 722s 2s/step - loss: 1.4886 - accuracy: 0.5937 - val_loss: 1.5085 - val_accuracy: 0.5620\n",
      "Epoch 25/60\n",
      "361/361 [==============================] - 689s 2s/step - loss: 1.4734 - accuracy: 0.5928 - val_loss: 1.4485 - val_accuracy: 0.6067\n",
      "Epoch 26/60\n",
      "361/361 [==============================] - 638s 2s/step - loss: 1.4757 - accuracy: 0.5953 - val_loss: 1.4603 - val_accuracy: 0.5904\n",
      "Epoch 27/60\n",
      "361/361 [==============================] - 626s 2s/step - loss: 1.4517 - accuracy: 0.6049 - val_loss: 1.4421 - val_accuracy: 0.6003\n",
      "Epoch 28/60\n",
      "361/361 [==============================] - 630s 2s/step - loss: 1.4416 - accuracy: 0.6077 - val_loss: 1.4842 - val_accuracy: 0.5953\n",
      "Epoch 29/60\n",
      "361/361 [==============================] - 628s 2s/step - loss: 1.4375 - accuracy: 0.6092 - val_loss: 1.4663 - val_accuracy: 0.5974\n",
      "Epoch 30/60\n",
      "361/361 [==============================] - 549s 2s/step - loss: 1.4316 - accuracy: 0.6098 - val_loss: 1.4495 - val_accuracy: 0.5953\n",
      "Epoch 31/60\n",
      "361/361 [==============================] - 441s 1s/step - loss: 1.4134 - accuracy: 0.6178 - val_loss: 1.4098 - val_accuracy: 0.6223\n",
      "Epoch 32/60\n",
      "361/361 [==============================] - 423s 1s/step - loss: 1.4051 - accuracy: 0.6186 - val_loss: 1.4222 - val_accuracy: 0.6052\n",
      "Epoch 33/60\n",
      "361/361 [==============================] - 410s 1s/step - loss: 1.4024 - accuracy: 0.6231 - val_loss: 1.4627 - val_accuracy: 0.6130\n",
      "Epoch 34/60\n",
      "361/361 [==============================] - 666s 2s/step - loss: 1.3975 - accuracy: 0.6221 - val_loss: 1.4332 - val_accuracy: 0.6137\n",
      "Epoch 35/60\n",
      "361/361 [==============================] - 772s 2s/step - loss: 1.3900 - accuracy: 0.6275 - val_loss: 1.4346 - val_accuracy: 0.5967\n",
      "Epoch 36/60\n",
      "361/361 [==============================] - 736s 2s/step - loss: 1.3829 - accuracy: 0.6291 - val_loss: 1.4025 - val_accuracy: 0.6187\n",
      "Epoch 37/60\n",
      "361/361 [==============================] - 522s 1s/step - loss: 1.3713 - accuracy: 0.6319 - val_loss: 1.4873 - val_accuracy: 0.5918\n",
      "Epoch 38/60\n",
      "361/361 [==============================] - 537s 1s/step - loss: 1.3715 - accuracy: 0.6345 - val_loss: 1.4418 - val_accuracy: 0.6074\n",
      "Epoch 39/60\n",
      "361/361 [==============================] - 620s 2s/step - loss: 1.3751 - accuracy: 0.6338 - val_loss: 1.4752 - val_accuracy: 0.6095\n",
      "Epoch 40/60\n",
      "361/361 [==============================] - 376s 1s/step - loss: 1.3655 - accuracy: 0.6409 - val_loss: 1.4162 - val_accuracy: 0.6194\n",
      "Epoch 41/60\n",
      "361/361 [==============================] - 370s 1s/step - loss: 1.3620 - accuracy: 0.6420 - val_loss: 1.4174 - val_accuracy: 0.6364\n",
      "Epoch 42/60\n",
      "361/361 [==============================] - 360s 998ms/step - loss: 1.3726 - accuracy: 0.6399 - val_loss: 1.4101 - val_accuracy: 0.6308\n",
      "Epoch 43/60\n",
      "361/361 [==============================] - 365s 1s/step - loss: 1.3584 - accuracy: 0.6466 - val_loss: 1.4458 - val_accuracy: 0.6244\n",
      "Epoch 44/60\n",
      "361/361 [==============================] - 377s 1s/step - loss: 1.3536 - accuracy: 0.6479 - val_loss: 1.4207 - val_accuracy: 0.6428\n",
      "Epoch 45/60\n",
      "361/361 [==============================] - 364s 1s/step - loss: 1.3511 - accuracy: 0.6535 - val_loss: 1.4189 - val_accuracy: 0.6315\n",
      "Epoch 46/60\n",
      "361/361 [==============================] - 361s 1s/step - loss: 1.3523 - accuracy: 0.6495 - val_loss: 1.4547 - val_accuracy: 0.6251\n",
      "Epoch 47/60\n",
      "361/361 [==============================] - 374s 1s/step - loss: 1.3572 - accuracy: 0.6494 - val_loss: 1.4437 - val_accuracy: 0.6322\n",
      "Epoch 48/60\n",
      "361/361 [==============================] - 369s 1s/step - loss: 1.3484 - accuracy: 0.6569 - val_loss: 1.4726 - val_accuracy: 0.5982\n",
      "Epoch 49/60\n",
      "361/361 [==============================] - 359s 995ms/step - loss: 1.3441 - accuracy: 0.6581 - val_loss: 1.4526 - val_accuracy: 0.6265\n",
      "Epoch 50/60\n",
      "361/361 [==============================] - 359s 994ms/step - loss: 1.3300 - accuracy: 0.6585 - val_loss: 1.4162 - val_accuracy: 0.6371\n",
      "Epoch 51/60\n",
      "361/361 [==============================] - 358s 993ms/step - loss: 1.3378 - accuracy: 0.6585 - val_loss: 1.4530 - val_accuracy: 0.6279\n",
      "Epoch 52/60\n",
      "361/361 [==============================] - 359s 994ms/step - loss: 1.3347 - accuracy: 0.6620 - val_loss: 1.4464 - val_accuracy: 0.6357\n",
      "Epoch 53/60\n",
      "361/361 [==============================] - 358s 992ms/step - loss: 1.3317 - accuracy: 0.6639 - val_loss: 1.4275 - val_accuracy: 0.6400\n",
      "Epoch 54/60\n",
      "361/361 [==============================] - 360s 998ms/step - loss: 1.3334 - accuracy: 0.6654 - val_loss: 1.4263 - val_accuracy: 0.6350\n",
      "Epoch 55/60\n",
      "361/361 [==============================] - 361s 1s/step - loss: 1.3341 - accuracy: 0.6641 - val_loss: 1.4434 - val_accuracy: 0.6293\n",
      "Epoch 56/60\n",
      "361/361 [==============================] - 361s 1s/step - loss: 1.3295 - accuracy: 0.6682 - val_loss: 1.4663 - val_accuracy: 0.6293\n",
      "Epoch 57/60\n",
      "361/361 [==============================] - 363s 1s/step - loss: 1.3256 - accuracy: 0.6648 - val_loss: 1.4290 - val_accuracy: 0.6428\n",
      "Epoch 58/60\n",
      "361/361 [==============================] - 375s 1s/step - loss: 1.3217 - accuracy: 0.6740 - val_loss: 1.4688 - val_accuracy: 0.6279\n",
      "Epoch 59/60\n",
      "361/361 [==============================] - 363s 1s/step - loss: 1.3198 - accuracy: 0.6727 - val_loss: 1.4426 - val_accuracy: 0.6563\n",
      "Epoch 60/60\n",
      "361/361 [==============================] - 360s 998ms/step - loss: 1.3246 - accuracy: 0.6734 - val_loss: 1.4290 - val_accuracy: 0.6414\n"
     ]
    }
   ],
   "source": [
    "history = model.fit(x = train_dataset,epochs = 60,validation_data = valid_dataset,batch_size=64)"
   ]
  },
  {
   "cell_type": "code",
   "execution_count": 13,
   "metadata": {},
   "outputs": [
    {
     "name": "stdout",
     "output_type": "stream",
     "text": [
      "INFO:tensorflow:Assets written to: saved_model/assets\n"
     ]
    }
   ],
   "source": [
    "export_dir = 'saved_model/'\n",
    "tf.keras.models.save_model(model,export_dir)"
   ]
  },
  {
   "cell_type": "code",
   "execution_count": null,
   "metadata": {},
   "outputs": [],
   "source": [
    "model.save('my_model.h5')"
   ]
  },
  {
   "cell_type": "code",
   "execution_count": 14,
   "metadata": {},
   "outputs": [
    {
     "name": "stderr",
     "output_type": "stream",
     "text": [
      "WARNING:absl:Buffer deduplication procedure will be skipped when flatbuffer library is not properly loaded\n"
     ]
    },
    {
     "data": {
      "text/plain": [
       "17973536"
      ]
     },
     "execution_count": 14,
     "metadata": {},
     "output_type": "execute_result"
    }
   ],
   "source": [
    "import pathlib\n",
    "\n",
    "# Convert SavedModel menjadi vegs.tflite\n",
    "converter = tf.lite.TFLiteConverter.from_saved_model(export_dir)\n",
    "tflite_model = converter.convert()\n",
    "\n",
    "tflite_model_file = pathlib.Path('vegs.tflite')\n",
    "tflite_model_file.write_bytes(tflite_model)"
   ]
  },
  {
   "cell_type": "code",
   "execution_count": 15,
   "metadata": {},
   "outputs": [
    {
     "name": "stderr",
     "output_type": "stream",
     "text": [
      "WARNING:absl:Buffer deduplication procedure will be skipped when flatbuffer library is not properly loaded\n"
     ]
    },
    {
     "data": {
      "text/plain": [
       "4538656"
      ]
     },
     "execution_count": 15,
     "metadata": {},
     "output_type": "execute_result"
    }
   ],
   "source": [
    "export_dir = 'saved_model/'\n",
    "converter = tf.lite.TFLiteConverter.from_saved_model(export_dir)\n",
    "converter.optimizations = [tf.lite.Optimize.DEFAULT] #ngecilin ukuran model\n",
    "# converter.representative_dataset = representative_dataset\n",
    "tflite_model = converter.convert()\n",
    "\n",
    "tflite_model_file = pathlib.Path('model2.tflite')\n",
    "tflite_model_file.write_bytes(tflite_model)"
   ]
  },
  {
   "cell_type": "code",
   "execution_count": 9,
   "metadata": {},
   "outputs": [
    {
     "name": "stdout",
     "output_type": "stream",
     "text": [
      "Model: \"sequential\"\n",
      "_________________________________________________________________\n",
      " Layer (type)                Output Shape              Param #   \n",
      "=================================================================\n",
      " conv2d (Conv2D)             (None, 48, 48, 32)        320       \n",
      "                                                                 \n",
      " conv2d_1 (Conv2D)           (None, 48, 48, 64)        18496     \n",
      "                                                                 \n",
      " batch_normalization (BatchN  (None, 48, 48, 64)       256       \n",
      " ormalization)                                                   \n",
      "                                                                 \n",
      " max_pooling2d (MaxPooling2D  (None, 24, 24, 64)       0         \n",
      " )                                                               \n",
      "                                                                 \n",
      " dropout (Dropout)           (None, 24, 24, 64)        0         \n",
      "                                                                 \n",
      " conv2d_2 (Conv2D)           (None, 24, 24, 128)       204928    \n",
      "                                                                 \n",
      " batch_normalization_1 (Batc  (None, 24, 24, 128)      512       \n",
      " hNormalization)                                                 \n",
      "                                                                 \n",
      " max_pooling2d_1 (MaxPooling  (None, 12, 12, 128)      0         \n",
      " 2D)                                                             \n",
      "                                                                 \n",
      " dropout_1 (Dropout)         (None, 12, 12, 128)       0         \n",
      "                                                                 \n",
      " conv2d_3 (Conv2D)           (None, 12, 12, 512)       590336    \n",
      "                                                                 \n",
      " batch_normalization_2 (Batc  (None, 12, 12, 512)      2048      \n",
      " hNormalization)                                                 \n",
      "                                                                 \n",
      " max_pooling2d_2 (MaxPooling  (None, 6, 6, 512)        0         \n",
      " 2D)                                                             \n",
      "                                                                 \n",
      " dropout_2 (Dropout)         (None, 6, 6, 512)         0         \n",
      "                                                                 \n",
      " conv2d_4 (Conv2D)           (None, 6, 6, 512)         2359808   \n",
      "                                                                 \n",
      " batch_normalization_3 (Batc  (None, 6, 6, 512)        2048      \n",
      " hNormalization)                                                 \n",
      "                                                                 \n",
      " max_pooling2d_3 (MaxPooling  (None, 3, 3, 512)        0         \n",
      " 2D)                                                             \n",
      "                                                                 \n",
      " dropout_3 (Dropout)         (None, 3, 3, 512)         0         \n",
      "                                                                 \n",
      " flatten (Flatten)           (None, 4608)              0         \n",
      "                                                                 \n",
      " dense (Dense)               (None, 256)               1179904   \n",
      "                                                                 \n",
      " batch_normalization_4 (Batc  (None, 256)              1024      \n",
      " hNormalization)                                                 \n",
      "                                                                 \n",
      " dropout_4 (Dropout)         (None, 256)               0         \n",
      "                                                                 \n",
      " dense_1 (Dense)             (None, 512)               131584    \n",
      "                                                                 \n",
      " batch_normalization_5 (Batc  (None, 512)              2048      \n",
      " hNormalization)                                                 \n",
      "                                                                 \n",
      " dropout_5 (Dropout)         (None, 512)               0         \n",
      "                                                                 \n",
      " dense_2 (Dense)             (None, 7)                 3591      \n",
      "                                                                 \n",
      "=================================================================\n",
      "Total params: 4,496,903\n",
      "Trainable params: 4,492,935\n",
      "Non-trainable params: 3,968\n",
      "_________________________________________________________________\n"
     ]
    }
   ],
   "source": [
    "model = tf.keras.models.load_model('my_model.h5')\n",
    "model.summary()"
   ]
  },
  {
   "cell_type": "code",
   "execution_count": 10,
   "metadata": {},
   "outputs": [
    {
     "name": "stdout",
     "output_type": "stream",
     "text": [
      "361/361 [==============================] - 184s 510ms/step - loss: 1.1781 - accuracy: 0.7281\n"
     ]
    },
    {
     "data": {
      "text/plain": [
       "[1.1781389713287354, 0.7280572652816772]"
      ]
     },
     "execution_count": 10,
     "metadata": {},
     "output_type": "execute_result"
    }
   ],
   "source": [
    "model.evaluate(train_dataset)"
   ]
  }
 ],
 "metadata": {
  "kernelspec": {
   "display_name": "Python 3.9.7 ('base')",
   "language": "python",
   "name": "python3"
  },
  "language_info": {
   "codemirror_mode": {
    "name": "ipython",
    "version": 3
   },
   "file_extension": ".py",
   "mimetype": "text/x-python",
   "name": "python",
   "nbconvert_exporter": "python",
   "pygments_lexer": "ipython3",
   "version": "3.9.7"
  },
  "orig_nbformat": 4,
  "vscode": {
   "interpreter": {
    "hash": "ab4cfb695e4995928d8d48b937410e7989a45ba361d6003efd8e9b7b9498f677"
   }
  }
 },
 "nbformat": 4,
 "nbformat_minor": 2
}
